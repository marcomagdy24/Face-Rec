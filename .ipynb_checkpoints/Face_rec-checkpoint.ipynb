{
 "cells": [
  {
   "cell_type": "code",
   "execution_count": 1,
   "metadata": {},
   "outputs": [],
   "source": [
    "import face_recognition as fr\n",
    "import os\n",
    "import cv2\n",
    "import numpy as np\n",
    "import time"
   ]
  },
  {
   "cell_type": "code",
   "execution_count": 2,
   "metadata": {},
   "outputs": [],
   "source": [
    "path = os.getcwd()\n",
    "DETECTION_DIR = \"Detection\"\n",
    "MODEL = \"hog\"\n",
    "KNOWN_FACES_DIR = \"known_faces\"\n",
    "UNKNOWN_FACES_DIR = \"unknown_faces\"\n",
    "NAME_DIR = \"{}\".format(path,KNOWN_FACES_DIR)\n",
    "TOLERANCE = 0.6\n",
    "FRAME_THICKNESS = 10\n",
    "FONT_THICKNESS = 5\n",
    "REC_COLOR  = (255,0,0)\n",
    "FONT_COLOR = (200,200,200)\n",
    "\n",
    "known_faces = []\n",
    "known_names = []"
   ]
  },
  {
   "cell_type": "code",
   "execution_count": 3,
   "metadata": {},
   "outputs": [],
   "source": [
    "def get_incoded_faces (image, name) :\n",
    "    encoding = fr.face_encodings(image)[0]\n",
    "    #print(encoding)\n",
    "    known_faces.append(encoding)\n",
    "    known_names.append(name) "
   ]
  },
  {
   "cell_type": "code",
   "execution_count": 4,
   "metadata": {},
   "outputs": [],
   "source": [
    "def train ():\n",
    "    print(\"[INFO] Processing Known Faces\")\n",
    "\n",
    "    for name in os.listdir(KNOWN_FACES_DIR) :\n",
    "        for filename in os.listdir(os.path.join(NAME_DIR,name)) :\n",
    "            image = fr.load_image_file(os.path.join(KNOWN_FACES_DIR,name,filename))\n",
    "            try :\n",
    "                get_incoded_faces(image, name)\n",
    "            except :\n",
    "                print(\"[ERROR] No Encoding In Picture {}\".format(filename))"
   ]
  },
  {
   "cell_type": "code",
   "execution_count": 5,
   "metadata": {},
   "outputs": [],
   "source": [
    "def test_using_pics ():\n",
    "    print(\"[INFO] Processing Unknown Faces\")\n",
    "    OUTPUT = 0\n",
    "    for filename in os.listdir(UNKNOWN_FACES_DIR) :\n",
    "        file_image = os.path.join(UNKNOWN_FACES_DIR,filename)\n",
    "        image = fr.load_image_file(file_image)\n",
    "        #img = cv2.imread(os.path.join(UNKNOWN_FACES_DIR,filename))\n",
    "        #height, width = img.shape[:2]\n",
    "        #image = cv2.resize(image,(width//8,height//8))\n",
    "        locations = fr.face_locations(image,model=MODEL)\n",
    "        encodings = fr.face_encodings(image,locations)\n",
    "        print(\"[INFO] Detected {} Faces in {} image\".format(len(locations), filename.split(\".\")[0]))\n",
    "        image = cv2.cvtColor(image, cv2.COLOR_RGB2BGR)\n",
    "        for face_encoding, face_location in zip(encodings,locations):\n",
    "            results = fr.compare_faces(known_faces,face_encoding,tolerance=TOLERANCE)\n",
    "            match = None\n",
    "            if True in results :\n",
    "                match = known_names[results.index(True)]\n",
    "                print(\"Match Found {}\".format(match))\n",
    "                top, right, bottom, left = face_location\n",
    "                top_left = (left, top)\n",
    "                bottom_right = (right, bottom)\n",
    "                cv2.rectangle(image,top_left,bottom_right,REC_COLOR,FRAME_THICKNESS)\n",
    "                cv2.putText(image, match,(left+10, bottom+15),cv2.FONT_HERSHEY_COMPLEX,0.5,FONT_COLOR,FONT_THICKNESS)\n",
    "        cv2.imwrite(os.path.join(path,DETECTION_DIR,str(OUTPUT)+\".jpg\"),image)\n",
    "        OUTPUT += 1\n",
    "#         cv2.imshow(\"Detected Unknown\",image)\n",
    "#         k = cv2.waitKey(0)\n",
    "#         if k==27:    # Esc key to stop\n",
    "#             cv2.destroyAllWindows()\n"
   ]
  },
  {
   "cell_type": "code",
   "execution_count": 6,
   "metadata": {},
   "outputs": [],
   "source": [
    "def test_using_camera ():\n",
    "    video = cv2.VideoCapture(0)\n",
    "    print(\"[INFO] Processing Unknown Faces\")\n",
    "    while True:\n",
    "        _ , image = video.read()\n",
    "        \n",
    "        locations = fr.face_locations(image,model=MODEL)\n",
    "        encodings = fr.face_encodings(image,locations)\n",
    "        #print(\"[INFO] Detected {} Faces in {} image\".format(len(locations), filename.split(\".\")[0]))\n",
    "        for face_encoding, face_location in zip(encodings,locations):\n",
    "            results = fr.compare_faces(known_faces,face_encoding,tolerance=TOLERANCE)\n",
    "            match = None\n",
    "            if True in results :\n",
    "                match = known_names[results.index(True)]\n",
    "                print(\"Match Found {}\".format(match))\n",
    "                top, right, bottom, left = face_location\n",
    "                top_left = (left, top)\n",
    "                bottom_right = (right, bottom)\n",
    "                cv2.rectangle(image,top_left,bottom_right,REC_COLOR,FRAME_THICKNESS)\n",
    "                cv2.putText(image, match,(left+10, bottom+15),cv2.FONT_HERSHEY_COMPLEX,0.5,FONT_COLOR,FONT_THICKNESS)\n",
    "        cv2.imshow(\"Detected Unknown\",image)\n",
    "        if cv2.waitKey(1)& 0xFF==27 :    # Esc key to stop\n",
    "            cv2.destroyAllWindows()\n",
    "            break"
   ]
  },
  {
   "cell_type": "code",
   "execution_count": 7,
   "metadata": {},
   "outputs": [],
   "source": [
    "def main ():\n",
    "    train()\n",
    "\n",
    "    test_using_pics()\n",
    "    #test_using_camera()"
   ]
  },
  {
   "cell_type": "code",
   "execution_count": 8,
   "metadata": {},
   "outputs": [
    {
     "name": "stdout",
     "output_type": "stream",
     "text": [
      "[INFO] Processing Known Faces\n"
     ]
    },
    {
     "ename": "FileNotFoundError",
     "evalue": "[WinError 3] The system cannot find the path specified: 'M:\\\\Scripts\\\\Face_Rec\\\\Jensen'",
     "output_type": "error",
     "traceback": [
      "\u001b[1;31m---------------------------------------------------------------------------\u001b[0m",
      "\u001b[1;31mFileNotFoundError\u001b[0m                         Traceback (most recent call last)",
      "\u001b[1;32m<ipython-input-8-be7a71e5606f>\u001b[0m in \u001b[0;36m<module>\u001b[1;34m\u001b[0m\n\u001b[0;32m      1\u001b[0m \u001b[1;32mif\u001b[0m \u001b[0m__name__\u001b[0m \u001b[1;33m==\u001b[0m \u001b[1;34m'__main__'\u001b[0m \u001b[1;33m:\u001b[0m\u001b[1;33m\u001b[0m\u001b[1;33m\u001b[0m\u001b[0m\n\u001b[1;32m----> 2\u001b[1;33m     \u001b[0mmain\u001b[0m\u001b[1;33m(\u001b[0m\u001b[1;33m)\u001b[0m\u001b[1;33m\u001b[0m\u001b[1;33m\u001b[0m\u001b[0m\n\u001b[0m",
      "\u001b[1;32m<ipython-input-7-565f79318009>\u001b[0m in \u001b[0;36mmain\u001b[1;34m()\u001b[0m\n\u001b[0;32m      1\u001b[0m \u001b[1;32mdef\u001b[0m \u001b[0mmain\u001b[0m \u001b[1;33m(\u001b[0m\u001b[1;33m)\u001b[0m\u001b[1;33m:\u001b[0m\u001b[1;33m\u001b[0m\u001b[1;33m\u001b[0m\u001b[0m\n\u001b[1;32m----> 2\u001b[1;33m     \u001b[0mtrain\u001b[0m\u001b[1;33m(\u001b[0m\u001b[1;33m)\u001b[0m\u001b[1;33m\u001b[0m\u001b[1;33m\u001b[0m\u001b[0m\n\u001b[0m\u001b[0;32m      3\u001b[0m \u001b[1;33m\u001b[0m\u001b[0m\n\u001b[0;32m      4\u001b[0m     \u001b[0mtest_using_pics\u001b[0m\u001b[1;33m(\u001b[0m\u001b[1;33m)\u001b[0m\u001b[1;33m\u001b[0m\u001b[1;33m\u001b[0m\u001b[0m\n\u001b[0;32m      5\u001b[0m     \u001b[1;31m#test_using_camera()\u001b[0m\u001b[1;33m\u001b[0m\u001b[1;33m\u001b[0m\u001b[1;33m\u001b[0m\u001b[0m\n",
      "\u001b[1;32m<ipython-input-4-93a701f25b3d>\u001b[0m in \u001b[0;36mtrain\u001b[1;34m()\u001b[0m\n\u001b[0;32m      3\u001b[0m \u001b[1;33m\u001b[0m\u001b[0m\n\u001b[0;32m      4\u001b[0m     \u001b[1;32mfor\u001b[0m \u001b[0mname\u001b[0m \u001b[1;32min\u001b[0m \u001b[0mos\u001b[0m\u001b[1;33m.\u001b[0m\u001b[0mlistdir\u001b[0m\u001b[1;33m(\u001b[0m\u001b[0mKNOWN_FACES_DIR\u001b[0m\u001b[1;33m)\u001b[0m \u001b[1;33m:\u001b[0m\u001b[1;33m\u001b[0m\u001b[1;33m\u001b[0m\u001b[0m\n\u001b[1;32m----> 5\u001b[1;33m         \u001b[1;32mfor\u001b[0m \u001b[0mfilename\u001b[0m \u001b[1;32min\u001b[0m \u001b[0mos\u001b[0m\u001b[1;33m.\u001b[0m\u001b[0mlistdir\u001b[0m\u001b[1;33m(\u001b[0m\u001b[0mos\u001b[0m\u001b[1;33m.\u001b[0m\u001b[0mpath\u001b[0m\u001b[1;33m.\u001b[0m\u001b[0mjoin\u001b[0m\u001b[1;33m(\u001b[0m\u001b[0mNAME_DIR\u001b[0m\u001b[1;33m,\u001b[0m\u001b[0mname\u001b[0m\u001b[1;33m)\u001b[0m\u001b[1;33m)\u001b[0m \u001b[1;33m:\u001b[0m\u001b[1;33m\u001b[0m\u001b[1;33m\u001b[0m\u001b[0m\n\u001b[0m\u001b[0;32m      6\u001b[0m             \u001b[0mimage\u001b[0m \u001b[1;33m=\u001b[0m \u001b[0mfr\u001b[0m\u001b[1;33m.\u001b[0m\u001b[0mload_image_file\u001b[0m\u001b[1;33m(\u001b[0m\u001b[0mos\u001b[0m\u001b[1;33m.\u001b[0m\u001b[0mpath\u001b[0m\u001b[1;33m.\u001b[0m\u001b[0mjoin\u001b[0m\u001b[1;33m(\u001b[0m\u001b[0mKNOWN_FACES_DIR\u001b[0m\u001b[1;33m,\u001b[0m\u001b[0mname\u001b[0m\u001b[1;33m,\u001b[0m\u001b[0mfilename\u001b[0m\u001b[1;33m)\u001b[0m\u001b[1;33m)\u001b[0m\u001b[1;33m\u001b[0m\u001b[1;33m\u001b[0m\u001b[0m\n\u001b[0;32m      7\u001b[0m             \u001b[1;32mtry\u001b[0m \u001b[1;33m:\u001b[0m\u001b[1;33m\u001b[0m\u001b[1;33m\u001b[0m\u001b[0m\n",
      "\u001b[1;31mFileNotFoundError\u001b[0m: [WinError 3] The system cannot find the path specified: 'M:\\\\Scripts\\\\Face_Rec\\\\Jensen'"
     ]
    }
   ],
   "source": [
    "if __name__ == '__main__' :\n",
    "    main()"
   ]
  },
  {
   "cell_type": "code",
   "execution_count": null,
   "metadata": {},
   "outputs": [],
   "source": []
  }
 ],
 "metadata": {
  "kernelspec": {
   "display_name": "Python 3",
   "language": "python",
   "name": "python3"
  },
  "language_info": {
   "codemirror_mode": {
    "name": "ipython",
    "version": 3
   },
   "file_extension": ".py",
   "mimetype": "text/x-python",
   "name": "python",
   "nbconvert_exporter": "python",
   "pygments_lexer": "ipython3",
   "version": "3.6.10"
  }
 },
 "nbformat": 4,
 "nbformat_minor": 4
}

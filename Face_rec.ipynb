{
 "cells": [
  {
   "cell_type": "code",
   "execution_count": 1,
   "metadata": {},
   "outputs": [],
   "source": [
    "import face_recognition as fr\n",
    "import os\n",
    "import cv2\n",
    "import numpy as np\n",
    "import time"
   ]
  },
  {
   "cell_type": "code",
   "execution_count": 2,
   "metadata": {},
   "outputs": [],
   "source": [
    "path = os.getcwd()\n",
    "DETECTION_DIR = \"Detection\"\n",
    "MODEL = \"hog\"\n",
    "KNOWN_FACES_DIR = \"known_faces\"\n",
    "UNKNOWN_FACES_DIR = \"unknown_faces\"\n",
    "NAME_DIR = \"{}\".format(path,KNOWN_FACES_DIR)\n",
    "TOLERANCE = 0.6\n",
    "FRAME_THICKNESS = 10\n",
    "FONT_THICKNESS = 5\n",
    "REC_COLOR  = (255,0,0)\n",
    "FONT_COLOR = (200,200,200)\n",
    "\n",
    "known_faces = []\n",
    "known_names = []"
   ]
  },
  {
   "cell_type": "code",
   "execution_count": 3,
   "metadata": {},
   "outputs": [],
   "source": [
    "def get_incoded_faces (image, name) :\n",
    "    encoding = fr.face_encodings(image)[0]\n",
    "    #print(encoding)\n",
    "    known_faces.append(encoding)\n",
    "    known_names.append(name) "
   ]
  },
  {
   "cell_type": "code",
   "execution_count": 4,
   "metadata": {},
   "outputs": [],
   "source": [
    "def train ():\n",
    "    print(\"[INFO] Processing Known Faces\")\n",
    "\n",
    "    for name in os.listdir(KNOWN_FACES_DIR) :\n",
    "        for filename in os.listdir(os.path.join(KNOWN_FACES_DIR,name)) :\n",
    "            image = fr.load_image_file(os.path.join(KNOWN_FACES_DIR,name,filename))\n",
    "            try :\n",
    "                get_incoded_faces(image, name)\n",
    "            except :\n",
    "                print(\"[ERROR] No Encoding In Picture {}\".format(filename))"
   ]
  },
  {
   "cell_type": "code",
   "execution_count": 5,
   "metadata": {},
   "outputs": [],
   "source": [
    "def test_using_pics ():\n",
    "    print(\"[INFO] Processing Unknown Faces\")\n",
    "    OUTPUT = 0\n",
    "    for filename in os.listdir(UNKNOWN_FACES_DIR) :\n",
    "        file_image = os.path.join(UNKNOWN_FACES_DIR,filename)\n",
    "        image = fr.load_image_file(file_image)\n",
    "        #img = cv2.imread(os.path.join(UNKNOWN_FACES_DIR,filename))\n",
    "        #height, width = img.shape[:2]\n",
    "        #image = cv2.resize(image,(width//8,height//8))\n",
    "        locations = fr.face_locations(image,model=MODEL)\n",
    "        encodings = fr.face_encodings(image,locations)\n",
    "        print(\"[INFO] Detected {} Faces in {} image\".format(len(locations), filename.split(\".\")[0]))\n",
    "        image = cv2.cvtColor(image, cv2.COLOR_RGB2BGR)\n",
    "        for face_encoding, face_location in zip(encodings,locations):\n",
    "            results = fr.compare_faces(known_faces,face_encoding,tolerance=TOLERANCE)\n",
    "            match = None\n",
    "            if True in results :\n",
    "                match = known_names[results.index(True)]\n",
    "                print(\"Match Found {}\".format(match))\n",
    "                top, right, bottom, left = face_location\n",
    "                top_left = (left, top)\n",
    "                bottom_right = (right, bottom)\n",
    "                cv2.rectangle(image,top_left,bottom_right,REC_COLOR,FRAME_THICKNESS)\n",
    "                cv2.putText(image, match,(left+10, bottom+15),cv2.FONT_HERSHEY_COMPLEX,0.5,FONT_COLOR,FONT_THICKNESS)\n",
    "        cv2.imwrite(os.path.join(path,DETECTION_DIR,str(OUTPUT)+\".jpg\"),image)\n",
    "        OUTPUT += 1\n",
    "#         cv2.imshow(\"Detected Unknown\",image)\n",
    "#         k = cv2.waitKey(0)\n",
    "#         if k==27:    # Esc key to stop\n",
    "#             cv2.destroyAllWindows()\n"
   ]
  },
  {
   "cell_type": "code",
   "execution_count": 6,
   "metadata": {},
   "outputs": [],
   "source": [
    "def test_using_camera ():\n",
    "    video = cv2.VideoCapture(0)\n",
    "    print(\"[INFO] Processing Unknown Faces\")\n",
    "    while True:\n",
    "        _ , image = video.read()\n",
    "        \n",
    "        locations = fr.face_locations(image,model=MODEL)\n",
    "        encodings = fr.face_encodings(image,locations)\n",
    "        #print(\"[INFO] Detected {} Faces in {} image\".format(len(locations), filename.split(\".\")[0]))\n",
    "        for face_encoding, face_location in zip(encodings,locations):\n",
    "            results = fr.compare_faces(known_faces,face_encoding,tolerance=TOLERANCE)\n",
    "            match = None\n",
    "            if True in results :\n",
    "                match = known_names[results.index(True)]\n",
    "                print(\"Match Found {}\".format(match))\n",
    "                top, right, bottom, left = face_location\n",
    "                top_left = (left, top)\n",
    "                bottom_right = (right, bottom)\n",
    "                cv2.rectangle(image,top_left,bottom_right,REC_COLOR,FRAME_THICKNESS)\n",
    "                cv2.putText(image, match,(left+10, bottom+15),cv2.FONT_HERSHEY_COMPLEX,0.5,FONT_COLOR,FONT_THICKNESS)\n",
    "        cv2.imshow(\"Detected Unknown\",image)\n",
    "        if cv2.waitKey(1)& 0xFF==27 :    # Esc key to stop\n",
    "            cv2.destroyAllWindows()\n",
    "            break"
   ]
  },
  {
   "cell_type": "code",
   "execution_count": 7,
   "metadata": {},
   "outputs": [],
   "source": [
    "def main ():\n",
    "    train()\n",
    "\n",
    "    test_using_pics()\n",
    "    #test_using_camera()"
   ]
  },
  {
   "cell_type": "code",
   "execution_count": 8,
   "metadata": {},
   "outputs": [
    {
     "name": "stdout",
     "output_type": "stream",
     "text": [
      "[INFO] Processing Known Faces\n",
      "[INFO] Processing Unknown Faces\n",
      "[INFO] Detected 2 Faces in 72975551 image\n",
      "Match Found Jensen\n"
     ]
    }
   ],
   "source": [
    "if __name__ == '__main__' :\n",
    "    main()"
   ]
  },
  {
   "cell_type": "code",
   "execution_count": null,
   "metadata": {},
   "outputs": [],
   "source": []
  }
 ],
 "metadata": {
  "kernelspec": {
   "display_name": "Python 3",
   "language": "python",
   "name": "python3"
  },
  "language_info": {
   "codemirror_mode": {
    "name": "ipython",
    "version": 3
   },
   "file_extension": ".py",
   "mimetype": "text/x-python",
   "name": "python",
   "nbconvert_exporter": "python",
   "pygments_lexer": "ipython3",
   "version": "3.6.10"
  }
 },
 "nbformat": 4,
 "nbformat_minor": 4
}
